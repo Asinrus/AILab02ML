{
 "cells": [
  {
   "cell_type": "code",
   "execution_count": 53,
   "metadata": {},
   "outputs": [],
   "source": [
    "%matplotlib inline\n",
    "import pandas as pd \n",
    "import numpy as np\n",
    "import seaborn as sns \n",
    "from sklearn.linear_model import LinearRegression\n",
    "import matplotlib.pyplot as plt\n",
    "import quandl \n",
    "from pylab import rcParams\n",
    "rcParams['figure.figsize'] = 12, 10"
   ]
  },
  {
   "cell_type": "code",
   "execution_count": 54,
   "metadata": {
    "scrolled": true
   },
   "outputs": [],
   "source": [
    "data = pd.read_csv(\"global_co2.csv\")"
   ]
  },
  {
   "cell_type": "markdown",
   "metadata": {},
   "source": [
    "Найдем год в котором стали считать данные загрязнения на душу населения. "
   ]
  },
  {
   "cell_type": "code",
   "execution_count": 55,
   "metadata": {},
   "outputs": [],
   "source": [
    "data_with_per_capita = data[data[\"Per Capita\"] >= 0.]"
   ]
  },
  {
   "cell_type": "code",
   "execution_count": 56,
   "metadata": {},
   "outputs": [
    {
     "data": {
      "text/html": [
       "<div>\n",
       "<style scoped>\n",
       "    .dataframe tbody tr th:only-of-type {\n",
       "        vertical-align: middle;\n",
       "    }\n",
       "\n",
       "    .dataframe tbody tr th {\n",
       "        vertical-align: top;\n",
       "    }\n",
       "\n",
       "    .dataframe thead th {\n",
       "        text-align: right;\n",
       "    }\n",
       "</style>\n",
       "<table border=\"1\" class=\"dataframe\">\n",
       "  <thead>\n",
       "    <tr style=\"text-align: right;\">\n",
       "      <th></th>\n",
       "      <th>Year</th>\n",
       "      <th>Total</th>\n",
       "      <th>Gas Fuel</th>\n",
       "      <th>Liquid Fuel</th>\n",
       "      <th>Solid Fuel</th>\n",
       "      <th>Cement</th>\n",
       "      <th>Gas Flaring</th>\n",
       "      <th>Per Capita</th>\n",
       "    </tr>\n",
       "  </thead>\n",
       "  <tbody>\n",
       "    <tr>\n",
       "      <th>199</th>\n",
       "      <td>1950</td>\n",
       "      <td>1630</td>\n",
       "      <td>97</td>\n",
       "      <td>423</td>\n",
       "      <td>1070</td>\n",
       "      <td>18</td>\n",
       "      <td>23</td>\n",
       "      <td>0.64</td>\n",
       "    </tr>\n",
       "    <tr>\n",
       "      <th>200</th>\n",
       "      <td>1951</td>\n",
       "      <td>1767</td>\n",
       "      <td>115</td>\n",
       "      <td>479</td>\n",
       "      <td>1129</td>\n",
       "      <td>20</td>\n",
       "      <td>24</td>\n",
       "      <td>0.69</td>\n",
       "    </tr>\n",
       "    <tr>\n",
       "      <th>201</th>\n",
       "      <td>1952</td>\n",
       "      <td>1795</td>\n",
       "      <td>124</td>\n",
       "      <td>504</td>\n",
       "      <td>1119</td>\n",
       "      <td>22</td>\n",
       "      <td>26</td>\n",
       "      <td>0.68</td>\n",
       "    </tr>\n",
       "    <tr>\n",
       "      <th>202</th>\n",
       "      <td>1953</td>\n",
       "      <td>1841</td>\n",
       "      <td>131</td>\n",
       "      <td>533</td>\n",
       "      <td>1125</td>\n",
       "      <td>24</td>\n",
       "      <td>27</td>\n",
       "      <td>0.69</td>\n",
       "    </tr>\n",
       "    <tr>\n",
       "      <th>203</th>\n",
       "      <td>1954</td>\n",
       "      <td>1865</td>\n",
       "      <td>138</td>\n",
       "      <td>557</td>\n",
       "      <td>1116</td>\n",
       "      <td>27</td>\n",
       "      <td>27</td>\n",
       "      <td>0.69</td>\n",
       "    </tr>\n",
       "  </tbody>\n",
       "</table>\n",
       "</div>"
      ],
      "text/plain": [
       "     Year  Total  Gas Fuel  Liquid Fuel  Solid Fuel  Cement  Gas Flaring  \\\n",
       "199  1950   1630        97          423        1070      18           23   \n",
       "200  1951   1767       115          479        1129      20           24   \n",
       "201  1952   1795       124          504        1119      22           26   \n",
       "202  1953   1841       131          533        1125      24           27   \n",
       "203  1954   1865       138          557        1116      27           27   \n",
       "\n",
       "     Per Capita  \n",
       "199        0.64  \n",
       "200        0.69  \n",
       "201        0.68  \n",
       "202        0.69  \n",
       "203        0.69  "
      ]
     },
     "execution_count": 56,
     "metadata": {},
     "output_type": "execute_result"
    }
   ],
   "source": [
    "data_with_per_capita.head()"
   ]
  },
  {
   "cell_type": "markdown",
   "metadata": {},
   "source": [
    "Так, с 1950 года стали учитывать показания на население. Мы не можем предсказывать прошлое по будущему, поэтому не будем трогать данные ранее 1950 и будем работать только с этими данными. "
   ]
  },
  {
   "cell_type": "code",
   "execution_count": 59,
   "metadata": {
    "scrolled": true
   },
   "outputs": [
    {
     "name": "stdout",
     "output_type": "stream",
     "text": [
      "<class 'pandas.core.frame.DataFrame'>\n",
      "Int64Index: 61 entries, 199 to 259\n",
      "Data columns (total 8 columns):\n",
      "Year           61 non-null int64\n",
      "Total          61 non-null int64\n",
      "Gas Fuel       61 non-null int64\n",
      "Liquid Fuel    61 non-null int64\n",
      "Solid Fuel     61 non-null int64\n",
      "Cement         61 non-null int64\n",
      "Gas Flaring    61 non-null int64\n",
      "Per Capita     61 non-null float64\n",
      "dtypes: float64(1), int64(7)\n",
      "memory usage: 4.3 KB\n"
     ]
    }
   ],
   "source": [
    "data_with_per_capita.info()"
   ]
  },
  {
   "cell_type": "code",
   "execution_count": 60,
   "metadata": {},
   "outputs": [
    {
     "data": {
      "image/png": "[encoded data removed]",
      "text/plain": [
       "<matplotlib.figure.Figure at 0xeeb7e3ef60>"
      ]
     },
     "metadata": {},
     "output_type": "display_data"
    }
   ],
   "source": [
    "sns.heatmap(data_with_per_capita.corr(), annot=True);"
   ]
  },
  {
   "cell_type": "markdown",
   "metadata": {},
   "source": [
    "Заметим, что мы не можем учитывать показатель суммы и год.\n",
    "Год при создании линейной регрессии будет учитываться как численный показатель, но из соображений логики ясно, что год не будет уменьшаться или как-то изменяться в меньшую сторону.\n",
    "\n",
    "Проверим показатель Total. Судя по коррелляционной матрице, он является суммой показателей-загрязнителей."
   ]
  },
  {
   "cell_type": "code",
   "execution_count": 61,
   "metadata": {},
   "outputs": [
    {
     "name": "stdout",
     "output_type": "stream",
     "text": [
      "False\n"
     ]
    }
   ],
   "source": [
    "print(all (data_with_per_capita[\"Total\"]==data_with_per_capita[\"Gas Fuel\"]+\n",
    "         data_with_per_capita[\"Liquid Fuel\"]+\n",
    "         data_with_per_capita[\"Solid Fuel\"]+\n",
    "         data_with_per_capita[\"Cement\"]+\n",
    "         data_with_per_capita[\"Gas Flaring\"]))"
   ]
  },
  {
   "cell_type": "markdown",
   "metadata": {},
   "source": [
    "Показатель не является суммой показателей-загрязнителей, может быть тут хитрее зависимость? Простым перебором получаем, что Total отличается от суммы показателей-загрязнителей максимум на 2 ед."
   ]
  },
  {
   "cell_type": "code",
   "execution_count": 62,
   "metadata": {},
   "outputs": [
    {
     "name": "stdout",
     "output_type": "stream",
     "text": [
      "True\n"
     ]
    }
   ],
   "source": [
    "print(all (abs(data_with_per_capita[\"Total\"]-(data_with_per_capita[\"Gas Fuel\"]+\n",
    "         data_with_per_capita[\"Liquid Fuel\"]+\n",
    "         data_with_per_capita[\"Solid Fuel\"]+\n",
    "         data_with_per_capita[\"Cement\"]+\n",
    "         data_with_per_capita[\"Gas Flaring\"]) ) <=2 ))"
   ]
  },
  {
   "cell_type": "markdown",
   "metadata": {},
   "source": [
    "То есть можно сказать, что $Total = [\"Gas Fuel\"] + [\"Liquid Fuel\"]+[\"Solid Fuel\"]+[\"Cement\"]+[\"Gas Flaring\"] + bias $. \n",
    "\n",
    "Где $bias \\in(-2,-1,0,1)$"
   ]
  },
  {
   "cell_type": "markdown",
   "metadata": {},
   "source": [
    "То есть мы можем получить смещенную оценку, если выкинем Total из рассмотрения. Но если мы его примем к рассмотрению, то по 2 раза учтем показатели-загрязнители. \n",
    "\n",
    "Решим эту проблему, внедря новый столбец $bias$"
   ]
  },
  {
   "cell_type": "code",
   "execution_count": 63,
   "metadata": {},
   "outputs": [
    {
     "name": "stderr",
     "output_type": "stream",
     "text": [
      "d:\\programs\\python\\lib\\site-packages\\ipykernel_launcher.py:5: SettingWithCopyWarning: \n",
      "A value is trying to be set on a copy of a slice from a DataFrame.\n",
      "Try using .loc[row_indexer,col_indexer] = value instead\n",
      "\n",
      "See the caveats in the documentation: http://pandas.pydata.org/pandas-docs/stable/indexing.html#indexing-view-versus-copy\n",
      "  \"\"\"\n"
     ]
    }
   ],
   "source": [
    "data_with_per_capita['bias'] = data_with_per_capita[\"Total\"]-(data_with_per_capita[\"Gas Fuel\"]+\n",
    "         data_with_per_capita[\"Liquid Fuel\"]+\n",
    "         data_with_per_capita[\"Solid Fuel\"]+\n",
    "         data_with_per_capita[\"Cement\"]+\n",
    "         data_with_per_capita[\"Gas Flaring\"])"
   ]
  },
  {
   "cell_type": "code",
   "execution_count": 64,
   "metadata": {
    "scrolled": true
   },
   "outputs": [
    {
     "data": {
      "text/html": [
       "<div>\n",
       "<style scoped>\n",
       "    .dataframe tbody tr th:only-of-type {\n",
       "        vertical-align: middle;\n",
       "    }\n",
       "\n",
       "    .dataframe tbody tr th {\n",
       "        vertical-align: top;\n",
       "    }\n",
       "\n",
       "    .dataframe thead th {\n",
       "        text-align: right;\n",
       "    }\n",
       "</style>\n",
       "<table border=\"1\" class=\"dataframe\">\n",
       "  <thead>\n",
       "    <tr style=\"text-align: right;\">\n",
       "      <th></th>\n",
       "      <th>Year</th>\n",
       "      <th>Total</th>\n",
       "      <th>Gas Fuel</th>\n",
       "      <th>Liquid Fuel</th>\n",
       "      <th>Solid Fuel</th>\n",
       "      <th>Cement</th>\n",
       "      <th>Gas Flaring</th>\n",
       "      <th>Per Capita</th>\n",
       "      <th>bias</th>\n",
       "    </tr>\n",
       "  </thead>\n",
       "  <tbody>\n",
       "    <tr>\n",
       "      <th>199</th>\n",
       "      <td>1950</td>\n",
       "      <td>1630</td>\n",
       "      <td>97</td>\n",
       "      <td>423</td>\n",
       "      <td>1070</td>\n",
       "      <td>18</td>\n",
       "      <td>23</td>\n",
       "      <td>0.64</td>\n",
       "      <td>-1</td>\n",
       "    </tr>\n",
       "    <tr>\n",
       "      <th>200</th>\n",
       "      <td>1951</td>\n",
       "      <td>1767</td>\n",
       "      <td>115</td>\n",
       "      <td>479</td>\n",
       "      <td>1129</td>\n",
       "      <td>20</td>\n",
       "      <td>24</td>\n",
       "      <td>0.69</td>\n",
       "      <td>0</td>\n",
       "    </tr>\n",
       "    <tr>\n",
       "      <th>201</th>\n",
       "      <td>1952</td>\n",
       "      <td>1795</td>\n",
       "      <td>124</td>\n",
       "      <td>504</td>\n",
       "      <td>1119</td>\n",
       "      <td>22</td>\n",
       "      <td>26</td>\n",
       "      <td>0.68</td>\n",
       "      <td>0</td>\n",
       "    </tr>\n",
       "    <tr>\n",
       "      <th>202</th>\n",
       "      <td>1953</td>\n",
       "      <td>1841</td>\n",
       "      <td>131</td>\n",
       "      <td>533</td>\n",
       "      <td>1125</td>\n",
       "      <td>24</td>\n",
       "      <td>27</td>\n",
       "      <td>0.69</td>\n",
       "      <td>1</td>\n",
       "    </tr>\n",
       "    <tr>\n",
       "      <th>203</th>\n",
       "      <td>1954</td>\n",
       "      <td>1865</td>\n",
       "      <td>138</td>\n",
       "      <td>557</td>\n",
       "      <td>1116</td>\n",
       "      <td>27</td>\n",
       "      <td>27</td>\n",
       "      <td>0.69</td>\n",
       "      <td>0</td>\n",
       "    </tr>\n",
       "  </tbody>\n",
       "</table>\n",
       "</div>"
      ],
      "text/plain": [
       "     Year  Total  Gas Fuel  Liquid Fuel  Solid Fuel  Cement  Gas Flaring  \\\n",
       "199  1950   1630        97          423        1070      18           23   \n",
       "200  1951   1767       115          479        1129      20           24   \n",
       "201  1952   1795       124          504        1119      22           26   \n",
       "202  1953   1841       131          533        1125      24           27   \n",
       "203  1954   1865       138          557        1116      27           27   \n",
       "\n",
       "     Per Capita  bias  \n",
       "199        0.64    -1  \n",
       "200        0.69     0  \n",
       "201        0.68     0  \n",
       "202        0.69     1  \n",
       "203        0.69     0  "
      ]
     },
     "execution_count": 64,
     "metadata": {},
     "output_type": "execute_result"
    }
   ],
   "source": [
    "data_with_per_capita.head()"
   ]
  },
  {
   "cell_type": "code",
   "execution_count": 65,
   "metadata": {},
   "outputs": [
    {
     "data": {
      "text/html": [
       "<div>\n",
       "<style scoped>\n",
       "    .dataframe tbody tr th:only-of-type {\n",
       "        vertical-align: middle;\n",
       "    }\n",
       "\n",
       "    .dataframe tbody tr th {\n",
       "        vertical-align: top;\n",
       "    }\n",
       "\n",
       "    .dataframe thead th {\n",
       "        text-align: right;\n",
       "    }\n",
       "</style>\n",
       "<table border=\"1\" class=\"dataframe\">\n",
       "  <thead>\n",
       "    <tr style=\"text-align: right;\">\n",
       "      <th></th>\n",
       "      <th>Year</th>\n",
       "      <th>Total</th>\n",
       "      <th>Gas Fuel</th>\n",
       "      <th>Liquid Fuel</th>\n",
       "      <th>Solid Fuel</th>\n",
       "      <th>Cement</th>\n",
       "      <th>Gas Flaring</th>\n",
       "      <th>Per Capita</th>\n",
       "      <th>bias</th>\n",
       "    </tr>\n",
       "  </thead>\n",
       "  <tbody>\n",
       "    <tr>\n",
       "      <th>count</th>\n",
       "      <td>61.000000</td>\n",
       "      <td>61.000000</td>\n",
       "      <td>61.000000</td>\n",
       "      <td>61.000000</td>\n",
       "      <td>61.000000</td>\n",
       "      <td>61.000000</td>\n",
       "      <td>61.000000</td>\n",
       "      <td>61.000000</td>\n",
       "      <td>61.000000</td>\n",
       "    </tr>\n",
       "    <tr>\n",
       "      <th>mean</th>\n",
       "      <td>1980.000000</td>\n",
       "      <td>4984.114754</td>\n",
       "      <td>769.327869</td>\n",
       "      <td>2005.229508</td>\n",
       "      <td>2012.081967</td>\n",
       "      <td>141.901639</td>\n",
       "      <td>55.688525</td>\n",
       "      <td>1.054754</td>\n",
       "      <td>-0.114754</td>\n",
       "    </tr>\n",
       "    <tr>\n",
       "      <th>std</th>\n",
       "      <td>17.752934</td>\n",
       "      <td>2070.838720</td>\n",
       "      <td>474.350599</td>\n",
       "      <td>850.674054</td>\n",
       "      <td>696.221907</td>\n",
       "      <td>106.848289</td>\n",
       "      <td>23.983009</td>\n",
       "      <td>0.178630</td>\n",
       "      <td>0.709421</td>\n",
       "    </tr>\n",
       "    <tr>\n",
       "      <th>min</th>\n",
       "      <td>1950.000000</td>\n",
       "      <td>1630.000000</td>\n",
       "      <td>97.000000</td>\n",
       "      <td>423.000000</td>\n",
       "      <td>1070.000000</td>\n",
       "      <td>18.000000</td>\n",
       "      <td>23.000000</td>\n",
       "      <td>0.640000</td>\n",
       "      <td>-2.000000</td>\n",
       "    </tr>\n",
       "    <tr>\n",
       "      <th>25%</th>\n",
       "      <td>1965.000000</td>\n",
       "      <td>3130.000000</td>\n",
       "      <td>337.000000</td>\n",
       "      <td>1219.000000</td>\n",
       "      <td>1448.000000</td>\n",
       "      <td>59.000000</td>\n",
       "      <td>37.000000</td>\n",
       "      <td>0.940000</td>\n",
       "      <td>-1.000000</td>\n",
       "    </tr>\n",
       "    <tr>\n",
       "      <th>50%</th>\n",
       "      <td>1980.000000</td>\n",
       "      <td>5113.000000</td>\n",
       "      <td>740.000000</td>\n",
       "      <td>2289.000000</td>\n",
       "      <td>1921.000000</td>\n",
       "      <td>120.000000</td>\n",
       "      <td>48.000000</td>\n",
       "      <td>1.120000</td>\n",
       "      <td>0.000000</td>\n",
       "    </tr>\n",
       "    <tr>\n",
       "      <th>75%</th>\n",
       "      <td>1995.000000</td>\n",
       "      <td>6398.000000</td>\n",
       "      <td>1157.000000</td>\n",
       "      <td>2605.000000</td>\n",
       "      <td>2414.000000</td>\n",
       "      <td>197.000000</td>\n",
       "      <td>66.000000</td>\n",
       "      <td>1.170000</td>\n",
       "      <td>0.000000</td>\n",
       "    </tr>\n",
       "    <tr>\n",
       "      <th>max</th>\n",
       "      <td>2010.000000</td>\n",
       "      <td>9167.000000</td>\n",
       "      <td>1702.000000</td>\n",
       "      <td>3122.000000</td>\n",
       "      <td>3842.000000</td>\n",
       "      <td>450.000000</td>\n",
       "      <td>110.000000</td>\n",
       "      <td>1.330000</td>\n",
       "      <td>1.000000</td>\n",
       "    </tr>\n",
       "  </tbody>\n",
       "</table>\n",
       "</div>"
      ],
      "text/plain": [
       "              Year        Total     Gas Fuel  Liquid Fuel   Solid Fuel  \\\n",
       "count    61.000000    61.000000    61.000000    61.000000    61.000000   \n",
       "mean   1980.000000  4984.114754   769.327869  2005.229508  2012.081967   \n",
       "std      17.752934  2070.838720   474.350599   850.674054   696.221907   \n",
       "min    1950.000000  1630.000000    97.000000   423.000000  1070.000000   \n",
       "25%    1965.000000  3130.000000   337.000000  1219.000000  1448.000000   \n",
       "50%    1980.000000  5113.000000   740.000000  2289.000000  1921.000000   \n",
       "75%    1995.000000  6398.000000  1157.000000  2605.000000  2414.000000   \n",
       "max    2010.000000  9167.000000  1702.000000  3122.000000  3842.000000   \n",
       "\n",
       "           Cement  Gas Flaring  Per Capita       bias  \n",
       "count   61.000000    61.000000   61.000000  61.000000  \n",
       "mean   141.901639    55.688525    1.054754  -0.114754  \n",
       "std    106.848289    23.983009    0.178630   0.709421  \n",
       "min     18.000000    23.000000    0.640000  -2.000000  \n",
       "25%     59.000000    37.000000    0.940000  -1.000000  \n",
       "50%    120.000000    48.000000    1.120000   0.000000  \n",
       "75%    197.000000    66.000000    1.170000   0.000000  \n",
       "max    450.000000   110.000000    1.330000   1.000000  "
      ]
     },
     "execution_count": 65,
     "metadata": {},
     "output_type": "execute_result"
    }
   ],
   "source": [
    "data_with_per_capita.describe()"
   ]
  },
  {
   "cell_type": "code",
   "execution_count": 66,
   "metadata": {},
   "outputs": [],
   "source": [
    "features = [c for c in data_with_per_capita.columns if c != \"Per Capita\" and c != \"Total\" and c != \"Year\"]"
   ]
  },
  {
   "cell_type": "code",
   "execution_count": 67,
   "metadata": {},
   "outputs": [
    {
     "data": {
      "text/plain": [
       "['Gas Fuel', 'Liquid Fuel', 'Solid Fuel', 'Cement', 'Gas Flaring', 'bias']"
      ]
     },
     "execution_count": 67,
     "metadata": {},
     "output_type": "execute_result"
    }
   ],
   "source": [
    "features"
   ]
  },
  {
   "cell_type": "code",
   "execution_count": 68,
   "metadata": {},
   "outputs": [],
   "source": [
    "target = \"Per Capita\"\n",
    "X = data_with_per_capita[features]\n",
    "y = data_with_per_capita[target]\n"
   ]
  },
  {
   "cell_type": "markdown",
   "metadata": {},
   "source": [
    "Разделим данный датасет на тренировочный и валидационный на $70%$ и $30%$ соответственно. \n",
    "\n",
    "$61\\cdot 0.7 \\approx 42$"
   ]
  },
  {
   "cell_type": "code",
   "execution_count": 69,
   "metadata": {},
   "outputs": [],
   "source": [
    "X_train, X_test, y_train, y_test = X[:42],X[42:],y[:42],y[42:]"
   ]
  },
  {
   "cell_type": "markdown",
   "metadata": {},
   "source": [
    "Теперь можем смело строить линейную регрессию после подготовки данных. Мы знаем, что у нас в валидационной выборке лежат данные \"старше\", чем в тренировочной."
   ]
  },
  {
   "cell_type": "code",
   "execution_count": 70,
   "metadata": {},
   "outputs": [],
   "source": [
    "lin = LinearRegression()"
   ]
  },
  {
   "cell_type": "code",
   "execution_count": 71,
   "metadata": {},
   "outputs": [
    {
     "data": {
      "text/plain": [
       "LinearRegression(copy_X=True, fit_intercept=True, n_jobs=1, normalize=False)"
      ]
     },
     "execution_count": 71,
     "metadata": {},
     "output_type": "execute_result"
    }
   ],
   "source": [
    "lin.fit(X_train,y_train)"
   ]
  },
  {
   "cell_type": "code",
   "execution_count": 72,
   "metadata": {
    "scrolled": true
   },
   "outputs": [
    {
     "name": "stdout",
     "output_type": "stream",
     "text": [
      "Gas Fuel : 0.000128988933065\n",
      "Liquid Fuel : 0.00010505523122\n",
      "Solid Fuel : 0.000334215728543\n",
      "Cement : -0.00259849331617\n",
      "Gas Flaring : 0.00323188306788\n",
      "bias : 0.00272864075557\n"
     ]
    }
   ],
   "source": [
    "for i,k in enumerate(features):\n",
    "    print(k ,\":\",lin.coef_[i])\n",
    "    "
   ]
  },
  {
   "cell_type": "code",
   "execution_count": 73,
   "metadata": {},
   "outputs": [],
   "source": [
    "def mean_absolute_percentage_error(y_true, y_pred):\n",
    "    return np.mean(np.abs(y_true - y_pred) / y_true)*100"
   ]
  },
  {
   "cell_type": "markdown",
   "metadata": {},
   "source": [
    "Проверим возможность переобучения и качество нашей модели с помощью MAPE - оценки"
   ]
  },
  {
   "cell_type": "code",
   "execution_count": 74,
   "metadata": {},
   "outputs": [],
   "source": [
    "pred_train = lin.predict(X_train)"
   ]
  },
  {
   "cell_type": "code",
   "execution_count": 75,
   "metadata": {},
   "outputs": [
    {
     "name": "stdout",
     "output_type": "stream",
     "text": [
      "MAPE train = 1.46%\n"
     ]
    }
   ],
   "source": [
    "print(\"MAPE train = %.2f\" % mean_absolute_percentage_error(y_train,pred_train),\"%\",sep='')"
   ]
  },
  {
   "cell_type": "code",
   "execution_count": 76,
   "metadata": {},
   "outputs": [],
   "source": [
    "pred_test = lin.predict(X_test)\n"
   ]
  },
  {
   "cell_type": "code",
   "execution_count": 77,
   "metadata": {},
   "outputs": [
    {
     "name": "stdout",
     "output_type": "stream",
     "text": [
      "MAPE train = 6.86%\n"
     ]
    }
   ],
   "source": [
    "print(\"MAPE train = %.2f\" % mean_absolute_percentage_error(y_test,pred_test),\"%\",sep='')"
   ]
  },
  {
   "cell_type": "code",
   "execution_count": 78,
   "metadata": {},
   "outputs": [],
   "source": [
    "pred =np.concatenate([pred_train,pred_test])"
   ]
  },
  {
   "cell_type": "markdown",
   "metadata": {},
   "source": [
    "\n",
    "Визуализируем данные: \"процент загрязнения\" в зависимости от общего количества выброшенного мусора"
   ]
  },
  {
   "cell_type": "code",
   "execution_count": 85,
   "metadata": {},
   "outputs": [
    {
     "data": {
      "image/png": "[encoded data removed]",
      "text/plain": [
       "<matplotlib.figure.Figure at 0xeebb5b8b38>"
      ]
     },
     "metadata": {},
     "output_type": "display_data"
    }
   ],
   "source": [
    "plt.scatter(data_with_per_capita[\"Total\"], y, color = 'blue',\n",
    "            label = \"Truth\")\n",
    "plt.plot(data_with_per_capita[\"Total\"][:42], pred_train, color = 'red',\n",
    "            label = \"Pred_train\")\n",
    "plt.plot(data_with_per_capita[\"Total\"][42:], pred_test, color = 'green',\n",
    "            label = \"Pred_test\")\n",
    "\n",
    "plt.xlabel(r\"$Total$\") \n",
    "plt.ylabel(r\"$Per Capita$\") # Label for y-axis.\n",
    "plt.legend(loc = 'upper right') # loc stands for 'location' of legend\n",
    "plt.show();"
   ]
  },
  {
   "cell_type": "code",
   "execution_count": 86,
   "metadata": {},
   "outputs": [
    {
     "data": {
      "image/png": "[encoded data removed]",
      "text/plain": [
       "<matplotlib.figure.Figure at 0xeebb7c5208>"
      ]
     },
     "metadata": {},
     "output_type": "display_data"
    }
   ],
   "source": [
    "plt.scatter(data_with_per_capita[\"Year\"], y, color = 'blue',\n",
    "            label = \"Truth\")\n",
    "plt.plot(data_with_per_capita[\"Year\"][:42], pred_train, color = 'red',\n",
    "            label = \"Pred_train\")\n",
    "plt.plot(data_with_per_capita[\"Year\"][42:], pred_test, color = 'green',\n",
    "            label = \"Pred_test\")\n",
    "\n",
    "plt.xlabel(r\"$Year$\") \n",
    "plt.ylabel(r\"$Per Capita$\") # Label for y-axis.\n",
    "plt.legend(loc = 'upper right') # loc stands for 'location' of legend\n",
    "plt.show();"
   ]
  },
  {
   "cell_type": "markdown",
   "metadata": {},
   "source": [
    "Из графиков явно видно, что наша регрессия переобучилась на тестовых данных, и уже не смогла спрогнозировать данные будущего.\n",
    "\n",
    "\n",
    "Вывод: из-за нехватки данных модель не смогла точно предсказать значения и переобучилась\n"
   ]
  }
 ],
 "metadata": {
  "kernelspec": {
   "display_name": "Python 3",
   "language": "python",
   "name": "python3"
  },
  "language_info": {
   "codemirror_mode": {
    "name": "ipython",
    "version": 3
   },
   "file_extension": ".py",
   "mimetype": "text/x-python",
   "name": "python",
   "nbconvert_exporter": "python",
   "pygments_lexer": "ipython3",
   "version": "3.6.4"
  }
 },
 "nbformat": 4,
 "nbformat_minor": 2
}
